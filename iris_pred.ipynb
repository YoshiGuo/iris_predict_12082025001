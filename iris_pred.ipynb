{
 "cells": [
  {
   "cell_type": "code",
   "execution_count": 1,
   "id": "5d7f0296",
   "metadata": {},
   "outputs": [],
   "source": [
    "import joblib\n",
    "import pandas as pd"
   ]
  },
  {
   "cell_type": "code",
   "execution_count": 2,
   "id": "a2b22cad",
   "metadata": {},
   "outputs": [],
   "source": [
    "svm = joblib.load('models/svm.joblib')\n",
    "rf = joblib.load('models/RF.joblib')\n",
    "knn = joblib.load('models/knn.joblib')\n",
    "lr = joblib.load('models/LR.joblib')"
   ]
  },
  {
   "cell_type": "code",
   "execution_count": 3,
   "id": "f8ae2333",
   "metadata": {},
   "outputs": [
    {
     "name": "stdout",
     "output_type": "stream",
     "text": [
      "<class 'pandas.core.frame.DataFrame'>\n",
      "RangeIndex: 150 entries, 0 to 149\n",
      "Data columns (total 5 columns):\n",
      " #   Column        Non-Null Count  Dtype  \n",
      "---  ------        --------------  -----  \n",
      " 0   sepal.length  150 non-null    float64\n",
      " 1   sepal.width   150 non-null    float64\n",
      " 2   petal.length  150 non-null    float64\n",
      " 3   petal.width   150 non-null    float64\n",
      " 4   variety       150 non-null    object \n",
      "dtypes: float64(4), object(1)\n",
      "memory usage: 6.0+ KB\n",
      "None\n"
     ]
    }
   ],
   "source": [
    "df = pd.read_csv('iris.csv')\n",
    "print(df.info())"
   ]
  },
  {
   "cell_type": "code",
   "execution_count": null,
   "id": "65991e79",
   "metadata": {},
   "outputs": [
    {
     "name": "stdout",
     "output_type": "stream",
     "text": [
      "['Setosa' 'Versicolor' 'Virginica']\n"
     ]
    }
   ],
   "source": [
    "#檢查 variety 為何是 Object\n",
    "print(df['variety'].unique())"
   ]
  },
  {
   "cell_type": "code",
   "execution_count": 5,
   "id": "79e2a0a7",
   "metadata": {},
   "outputs": [],
   "source": [
    "#可寫可不寫(轉換)\n",
    "c = {'Setosa':0, 'Versicolor':1, 'Virginica':2}\n",
    "df['variety2'] = df['variety'].map(c)"
   ]
  },
  {
   "cell_type": "code",
   "execution_count": 8,
   "id": "86ac764c",
   "metadata": {},
   "outputs": [
    {
     "name": "stdout",
     "output_type": "stream",
     "text": [
      "[0 0 0 1 1 1 1 1 1 1 1 1 1]\n"
     ]
    }
   ],
   "source": [
    "print(knn.predict(df.iloc[47:60, 0:4].values))   # 0:4 --> 只有4個特徵"
   ]
  }
 ],
 "metadata": {
  "kernelspec": {
   "display_name": "3.12.10",
   "language": "python",
   "name": "python3"
  },
  "language_info": {
   "codemirror_mode": {
    "name": "ipython",
    "version": 3
   },
   "file_extension": ".py",
   "mimetype": "text/x-python",
   "name": "python",
   "nbconvert_exporter": "python",
   "pygments_lexer": "ipython3",
   "version": "3.12.10"
  }
 },
 "nbformat": 4,
 "nbformat_minor": 5
}
